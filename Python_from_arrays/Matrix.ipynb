{
 "cells": [
  {
   "cell_type": "markdown",
   "metadata": {},
   "source": [
    "# Matrix Addition using Nested Loop"
   ]
  },
  {
   "cell_type": "code",
   "execution_count": 95,
   "metadata": {},
   "outputs": [
    {
     "name": "stdout",
     "output_type": "stream",
     "text": [
      "[6, 9, 7]\n",
      "[10, 12, 8]\n"
     ]
    }
   ],
   "source": [
    "a = [[1,2,3],\n",
    "     [4,5,6]]\n",
    "     \n",
    "b = [[5,7,4],\n",
    "     [6,7,2]]\n",
    "\n",
    "result = []\n",
    "# iterate through rows\n",
    "for i in range(len(a)):\n",
    "    inner_list = []\n",
    "    # iterate through columns\n",
    "    for j in range(len(a[i])):\n",
    "        # append sum of the elements of a and b matrix\n",
    "        inner_list.append(a[i][j] + b[i][j])\n",
    "    result.append(inner_list)\n",
    "\n",
    "for i in result:\n",
    "    print(i)"
   ]
  },
  {
   "cell_type": "code",
   "execution_count": 96,
   "metadata": {},
   "outputs": [
    {
     "name": "stdout",
     "output_type": "stream",
     "text": [
      "[17, 15, 4]\n",
      "[10, 12, 9]\n",
      "[11, 13, 18]\n"
     ]
    }
   ],
   "source": [
    "X = [[12,7,3],\n",
    "    [4 ,5,6],\n",
    "    [7 ,8,9]]\n",
    "\n",
    "Y = [[5,8,1],\n",
    "    [6,7,3],\n",
    "    [4,5,9]]\n",
    "\n",
    "result = [[0,0,0],\n",
    "         [0,0,0],\n",
    "         [0,0,0]]\n",
    "\n",
    "# iterate through rows\n",
    "for i in range(len(X)):\n",
    "   # iterate through columns\n",
    "   for j in range(len(X[0])):\n",
    "       result[i][j] = X[i][j] + Y[i][j]\n",
    "\n",
    "for r in result:\n",
    "   print(r)"
   ]
  },
  {
   "cell_type": "markdown",
   "metadata": {},
   "source": [
    "##  Matrix Addition using Nested List Comprehension"
   ]
  },
  {
   "cell_type": "code",
   "execution_count": 98,
   "metadata": {},
   "outputs": [
    {
     "name": "stdout",
     "output_type": "stream",
     "text": [
      "[6, 9, 7]\n",
      "[10, 12, 8]\n",
      "[16, 9, 17]\n"
     ]
    }
   ],
   "source": [
    "# Program to add two matrices using list comprehension\n",
    "a = [[1,2,3], [4,5,6], [7,8,9]]\n",
    "b = [[5,7,4], [6,7,2], [9,1,8]]\n",
    "\n",
    "result = [[a[i][j]+b[i][j] for j in range(len(a[0]))] for i in range(len(a))]\n",
    "\n",
    "for i in result:\n",
    "    print(i)"
   ]
  },
  {
   "cell_type": "code",
   "execution_count": null,
   "metadata": {},
   "outputs": [],
   "source": []
  },
  {
   "cell_type": "markdown",
   "metadata": {},
   "source": [
    "## Matrix Transpose using Nested Loop"
   ]
  },
  {
   "cell_type": "code",
   "execution_count": null,
   "metadata": {},
   "outputs": [],
   "source": [
    "# Program to transpose a matrix using a nested loop\n",
    "\n",
    "X = [[12,7],\n",
    "    [4 ,5],\n",
    "    [3 ,8]]\n",
    "\n",
    "result = [[0,0,0],\n",
    "         [0,0,0]]\n",
    "\n",
    "# iterate through rows\n",
    "for i in range(len(X)):\n",
    "   # iterate through columns\n",
    "   for j in range(len(X[0])):\n",
    "       result[j][i] = X[i][j]\n",
    "\n",
    "for r in result:\n",
    "   print(r)"
   ]
  },
  {
   "cell_type": "code",
   "execution_count": null,
   "metadata": {},
   "outputs": [],
   "source": [
    "''' Program to transpose a matrix using list comprehension'''\n",
    "\n",
    "X = [[12,7],\n",
    "    [4 ,5],\n",
    "    [3 ,8]]\n",
    "\n",
    "result = [[X[j][i] for j in range(len(X))] for i in range(len(X[0]))]\n",
    "\n",
    "for r in result:\n",
    "   print(r"
   ]
  },
  {
   "cell_type": "markdown",
   "metadata": {},
   "source": [
    "# Matrix Multiplication using Nested Loop"
   ]
  },
  {
   "cell_type": "code",
   "execution_count": 118,
   "metadata": {},
   "outputs": [
    {
     "name": "stdout",
     "output_type": "stream",
     "text": [
      "[[0, 0], [0, 0]]\n",
      "a:  [[1, 2, 3], [4, 5, 6]]\n",
      "b:  [[5, 7], [6, 7]]\n",
      "result: \n",
      "[17, 21]\n",
      "[50, 63]\n"
     ]
    }
   ],
   "source": [
    "a = [[1,2,3], [4,5,6]]\n",
    "b = [[5,7], [6,7]]\n",
    "\n",
    "result = []\n",
    "## creating output array with the integer of 0 \n",
    "for i in range(len(a)):\n",
    "    inner_list = []\n",
    "    for j in range(len(b[i])):\n",
    "        inner_list.append(0)\n",
    "    result.append(inner_list)\n",
    "\n",
    "print(result)\n",
    "\n",
    "# iterate through rows of a \n",
    "for a_rows in range(len(a)):\n",
    "    # iterate through columns of b\n",
    "    for b_col in range(len(b[0])):\n",
    "        # Iterate through rows of b\n",
    "        for b_rows in range(len(b)):\n",
    "            result[a_rows][b_col] += a[a_rows][b_rows] * b[b_rows][b_col]\n",
    "\n",
    "print(\"a: \", a)\n",
    "print(\"b: \", b)\n",
    "\n",
    "print(\"result: \")\n",
    "for i in result:\n",
    "    print(i)"
   ]
  },
  {
   "cell_type": "code",
   "execution_count": null,
   "metadata": {},
   "outputs": [],
   "source": []
  },
  {
   "cell_type": "code",
   "execution_count": null,
   "metadata": {},
   "outputs": [],
   "source": [
    "a = [[1,2,3], [4,5,6], [7,8,9]]\n",
    "b = [[5,7], [6,7], [9,1]]\n",
    "\n",
    "result = []\n",
    "for i in range(len(a)):\n",
    "    inner_list = []\n",
    "    for j in range(len(b[i])):\n",
    "        inner_list.append(0)\n",
    "    result.append(inner_list)\n",
    "print(result)\n",
    "\n",
    "for i in range(len[b])\n"
   ]
  },
  {
   "cell_type": "markdown",
   "metadata": {},
   "source": [
    "# Ikki o'lchamli massivelar. Matritsalar"
   ]
  },
  {
   "cell_type": "markdown",
   "metadata": {},
   "source": [
    "## Matrix1"
   ]
  },
  {
   "cell_type": "code",
   "execution_count": 177,
   "metadata": {},
   "outputs": [
    {
     "name": "stdout",
     "output_type": "stream",
     "text": [
      "Initial array:\n",
      " [[0 0 0 0 0]\n",
      " [0 0 0 0 0]\n",
      " [0 0 0 0 0]\n",
      " [0 0 0 0 0]\n",
      " [0 0 0 0 0]]\n",
      "Result:\n",
      "[1 0 0 0 0]\n",
      "[0 1 0 0 0]\n",
      "[0 0 1 0 0]\n",
      "[0 0 0 1 0]\n",
      "[0 0 0 0 1]\n"
     ]
    }
   ],
   "source": [
    "# A\n",
    "a = np.zeros((5,5),dtype=int)\n",
    "print(\"Initial array:\\n\", a)\n",
    "\n",
    "for i in range(len(a)):\n",
    "    for j in range(len(a[i])):\n",
    "        if i == j:\n",
    "            a[i][j] = 1\n",
    "\n",
    "print(\"Result:\")\n",
    "for i in a:\n",
    "    print(i)"
   ]
  },
  {
   "cell_type": "code",
   "execution_count": 186,
   "metadata": {},
   "outputs": [
    {
     "name": "stdout",
     "output_type": "stream",
     "text": [
      "Initial array:\n",
      " [[0 0 0 0 0]\n",
      " [0 0 0 0 0]\n",
      " [0 0 0 0 0]\n",
      " [0 0 0 0 0]\n",
      " [0 0 0 0 0]]\n",
      "Result:\n",
      "[0 0 0 0 1]\n",
      "[0 0 0 2 0]\n",
      "[0 0 3 0 0]\n",
      "[0 4 0 0 0]\n",
      "[5 0 0 0 0]\n"
     ]
    }
   ],
   "source": [
    "# B\n",
    "a = np.zeros((5,5),dtype=int)\n",
    "print(\"Initial array:\\n\", a)\n",
    "\n",
    "count = 0\n",
    "for i in range(len(a)):\n",
    "    count +=1\n",
    "    for j in range(len(a[i])):\n",
    "        if j == len(a[i]) - count:\n",
    "            a[i][j] = count\n",
    "\n",
    "print(\"Result:\")\n",
    "for i in a:\n",
    "    print(i)"
   ]
  },
  {
   "cell_type": "code",
   "execution_count": 185,
   "metadata": {},
   "outputs": [
    {
     "name": "stdout",
     "output_type": "stream",
     "text": [
      "Initial array:\n",
      " [[0 0 0 0 0]\n",
      " [0 0 0 0 0]\n",
      " [0 0 0 0 0]\n",
      " [0 0 0 0 0]\n",
      " [0 0 0 0 0]]\n",
      "Result:\n",
      "[0 0 0 0 0]\n",
      "[0 4 0 0 0]\n",
      "[0 0 3 0 0]\n",
      "[0 0 0 2 0]\n",
      "[0 0 0 0 1]\n"
     ]
    }
   ],
   "source": [
    "# C\n",
    "a = np.zeros((5,5),dtype=int)\n",
    "print(\"Initial array:\\n\", a)\n",
    "\n",
    "count = 0\n",
    "for i in range(len(a)-1, 0, -1):\n",
    "    count +=1\n",
    "    for j in range(len(a[i])):\n",
    "        if i == j:\n",
    "            a[i][j] = count\n",
    "\n",
    "print(\"Result:\")\n",
    "for i in a:\n",
    "    print(i)"
   ]
  },
  {
   "cell_type": "code",
   "execution_count": 189,
   "metadata": {},
   "outputs": [
    {
     "name": "stdout",
     "output_type": "stream",
     "text": [
      "Initial array:\n",
      " [[0 0 0 0 0]\n",
      " [0 0 0 0 0]\n",
      " [0 0 0 0 0]\n",
      " [0 0 0 0 0]\n",
      " [0 0 0 0 0]]\n",
      "Result:\n",
      "[2 0 0 0 0]\n",
      "[0 6 0 0 0]\n",
      "[ 0  0 12  0  0]\n",
      "[ 0  0  0 20  0]\n",
      "[ 0  0  0  0 30]\n"
     ]
    }
   ],
   "source": [
    "# D\n",
    "a = np.zeros((5,5),dtype=int)\n",
    "print(\"Initial array:\\n\", a)\n",
    "\n",
    "for i in range(len(a)):\n",
    "    for j in range(len(a[i])):\n",
    "        if i == j:\n",
    "            a[i][j] = (i + 1) * (i+2)\n",
    "\n",
    "print(\"Result:\")\n",
    "for i in a:\n",
    "    print(i)"
   ]
  },
  {
   "cell_type": "code",
   "execution_count": 209,
   "metadata": {},
   "outputs": [
    {
     "name": "stdout",
     "output_type": "stream",
     "text": [
      "Initial array:\n",
      " [[0 0 0 0 0]\n",
      " [0 0 0 0 0]\n",
      " [0 0 0 0 0]\n",
      " [0 0 0 0 0]\n",
      " [0 0 0 0 0]]\n",
      "Result:\n",
      " [[2 1 0 0 0]\n",
      " [1 2 1 0 0]\n",
      " [0 1 2 1 0]\n",
      " [0 0 1 2 1]\n",
      " [0 0 0 1 2]]\n"
     ]
    }
   ],
   "source": [
    "# E\n",
    "a = np.zeros((5,5),dtype=int)\n",
    "print(\"Initial array:\\n\", a)\n",
    "\n",
    "L = len(a) \n",
    "count = 0\n",
    "for i in range(len(a)):\n",
    "    #for j in range(len(a[i])):\n",
    "    if i == count:\n",
    "        a[i][count] = 2\n",
    "        \n",
    "        if i + 1 < L:\n",
    "            a[i][count+1] = 1\n",
    "            a[i+1][count] = 1\n",
    "    count += 1\n",
    "            \n",
    "print(\"Result:\\n\", a)\n"
   ]
  },
  {
   "cell_type": "code",
   "execution_count": 277,
   "metadata": {},
   "outputs": [
    {
     "name": "stdout",
     "output_type": "stream",
     "text": [
      "Initial array:\n",
      " [[0 0 0 0 0]\n",
      " [0 0 0 0 0]\n",
      " [0 0 0 0 0]\n",
      " [0 0 0 0 0]\n",
      " [0 0 0 0 0]]\n",
      "Result:\n",
      "[1 1 1 1 1]\n",
      "[2 2 2 2 0]\n",
      "[3 3 3 0 0]\n",
      "[4 4 0 0 0]\n",
      "[5 0 0 0 0]\n"
     ]
    }
   ],
   "source": [
    "# F\n",
    "a = np.zeros((5,5),dtype=int)\n",
    "print(\"Initial array:\\n\", a)\n",
    "\n",
    "count = len(a[0]) \n",
    "for i in range(len(a)):\n",
    "    for j in range(count):\n",
    "        a[i][j] = i+1\n",
    "    \n",
    "    count -=1\n",
    "\n",
    "print(\"Result:\")\n",
    "for i in a:\n",
    "    print(i)"
   ]
  },
  {
   "cell_type": "code",
   "execution_count": 273,
   "metadata": {},
   "outputs": [
    {
     "name": "stdout",
     "output_type": "stream",
     "text": [
      "[[0. 0. 0. 0. 0.]\n",
      " [0. 0. 0. 0. 0.]\n",
      " [0. 0. 0. 0. 0.]\n",
      " [0. 0. 0. 0. 0.]\n",
      " [0. 0. 0. 0. 0.]]\n"
     ]
    },
    {
     "data": {
      "text/plain": [
       "array([[0., 0., 0., 0., 0.],\n",
       "       [4., 5., 1., 2., 3.],\n",
       "       [3., 4., 5., 1., 2.],\n",
       "       [2., 3., 4., 5., 1.],\n",
       "       [1., 2., 3., 4., 5.]])"
      ]
     },
     "execution_count": 273,
     "metadata": {},
     "output_type": "execute_result"
    }
   ],
   "source": [
    "# G \n",
    "a = np.zeros((5,5))\n",
    "l = len(a)\n",
    "print(a)\n",
    "x = 4\n",
    "for row in range(l-1, 0, -1):\n",
    "    n = 5\n",
    "    for col in range(l):\n",
    "        if row <= l:\n",
    "            a[row][x-col] = n\n",
    "            n -= 1\n",
    "    x-=1\n",
    "\n",
    "a\n"
   ]
  },
  {
   "cell_type": "code",
   "execution_count": 278,
   "metadata": {},
   "outputs": [
    {
     "name": "stdout",
     "output_type": "stream",
     "text": [
      "[[0. 0. 0. 0. 0.]\n",
      " [0. 0. 0. 0. 0.]\n",
      " [0. 0. 0. 0. 0.]\n",
      " [0. 0. 0. 0. 0.]\n",
      " [0. 0. 0. 0. 0.]]\n",
      "[[5. 0. 0. 0. 0.]\n",
      " [4. 5. 0. 0. 0.]\n",
      " [3. 4. 5. 0. 0.]\n",
      " [2. 3. 4. 5. 0.]\n",
      " [1. 2. 3. 4. 5.]]\n"
     ]
    }
   ],
   "source": [
    "# G \n",
    "a = np.zeros((5,5))\n",
    "l = len(a)\n",
    "print(a)\n",
    "for row in range(l):\n",
    "    for col in range(row+1):\n",
    "        a[row, col] = l - (row - col)\n",
    "print(a)"
   ]
  },
  {
   "cell_type": "code",
   "execution_count": 289,
   "metadata": {},
   "outputs": [
    {
     "name": "stdout",
     "output_type": "stream",
     "text": [
      "[[0. 0. 0. 0. 0.]\n",
      " [0. 0. 0. 0. 0.]\n",
      " [0. 0. 0. 0. 0.]\n",
      " [0. 0. 0. 0. 0.]\n",
      " [0. 0. 0. 0. 0.]]\n"
     ]
    },
    {
     "data": {
      "text/plain": [
       "array([[1., 2., 3., 4., 5.],\n",
       "       [2., 3., 4., 5., 0.],\n",
       "       [3., 4., 5., 0., 0.],\n",
       "       [4., 5., 0., 0., 0.],\n",
       "       [5., 0., 0., 0., 0.]])"
      ]
     },
     "execution_count": 289,
     "metadata": {},
     "output_type": "execute_result"
    }
   ],
   "source": [
    "# H \n",
    "a = np.zeros((5,5))\n",
    "l = len(a)\n",
    "print(a)\n",
    "\n",
    "for row in range(l):\n",
    "    for col in range(l-row):\n",
    "        a[row, col] = l - (l-(col+row+1))\n",
    "\n",
    "a\n",
    "\n"
   ]
  },
  {
   "cell_type": "code",
   "execution_count": 319,
   "metadata": {},
   "outputs": [
    {
     "name": "stdout",
     "output_type": "stream",
     "text": [
      "[[0. 0. 0. 0. 0.]\n",
      " [0. 0. 0. 0. 0.]\n",
      " [0. 0. 0. 0. 0.]\n",
      " [0. 0. 0. 0. 0.]\n",
      " [0. 0. 0. 0. 0.]]\n"
     ]
    },
    {
     "data": {
      "text/plain": [
       "array([[1., 0., 0., 0., 5.],\n",
       "       [0., 2., 0., 4., 0.],\n",
       "       [0., 0., 3., 0., 0.],\n",
       "       [0., 2., 0., 4., 0.],\n",
       "       [1., 0., 0., 0., 5.]])"
      ]
     },
     "execution_count": 319,
     "metadata": {},
     "output_type": "execute_result"
    }
   ],
   "source": [
    "# I \n",
    "a = np.zeros((5,5))\n",
    "l = len(a)\n",
    "print(a)\n",
    "for row in range(l):\n",
    "    for col in range(l):\n",
    "        if row == col:\n",
    "            a[row,col] = row+1\n",
    "            a[row, -(col+1)] = l - row\n",
    "    \n",
    "a"
   ]
  },
  {
   "cell_type": "code",
   "execution_count": 334,
   "metadata": {},
   "outputs": [
    {
     "name": "stdout",
     "output_type": "stream",
     "text": [
      "[[6 4 2 5 8]\n",
      " [1 7 5 6 8]\n",
      " [1 5 5 9 4]\n",
      " [8 9 3 1 4]\n",
      " [5 9 6 5 4]]\n",
      "The Sum of 0 row == 25\n",
      "The Sum of 1 row == 27\n",
      "The Sum of 2 row == 24\n",
      "The Sum of 3 row == 25\n",
      "The Sum of 4 row == 29\n"
     ]
    }
   ],
   "source": [
    "arr = np.random.randint(1,10, size=(5,5), dtype=int)\n",
    "print(arr)\n",
    "sum = 0\n",
    "for i in range(len(arr)):\n",
    "    for j in range(len(arr)):\n",
    "        sum += arr[i][j]   \n",
    "    print(\"The Sum of\",i,\"row ==\", sum)\n",
    "    sum = 0\n"
   ]
  },
  {
   "cell_type": "code",
   "execution_count": 342,
   "metadata": {},
   "outputs": [
    {
     "name": "stdout",
     "output_type": "stream",
     "text": [
      "[[2 8 9 7 7]\n",
      " [6 9 2 4 9]\n",
      " [2 1 3 9 1]\n",
      " [8 4 8 7 8]\n",
      " [1 6 9 1 9]]\n",
      "The Max of 0 row == 9\n",
      "The Max of 1 row == 9\n",
      "The Max of 2 row == 9\n",
      "The Max of 3 row == 8\n",
      "The Max of 4 row == 9\n"
     ]
    }
   ],
   "source": [
    "arr = np.random.randint(1,10, size=(5,5), dtype=int)\n",
    "print(arr)\n",
    "max = 0\n",
    "for i in range(len(arr)):\n",
    "    for j in range(len(arr)):\n",
    "        if arr[i][j] > max:\n",
    "            max = arr[i,j]   \n",
    "    print(\"The Max of\",i,\"row ==\", max)\n",
    "    max = 0"
   ]
  },
  {
   "cell_type": "code",
   "execution_count": 346,
   "metadata": {},
   "outputs": [
    {
     "name": "stdout",
     "output_type": "stream",
     "text": [
      "[[1 2 2 8 4]\n",
      " [5 5 4 5 6]\n",
      " [8 9 7 6 3]\n",
      " [7 8 7 7 6]\n",
      " [3 2 6 7 6]]\n",
      "The Max of 0 column == 8\n",
      "The Max of 1 column == 9\n",
      "The Max of 2 column == 7\n",
      "The Max of 3 column == 8\n",
      "The Max of 4 column == 6\n"
     ]
    }
   ],
   "source": [
    "arr = np.random.randint(1,10, size=(5,5), dtype=int)\n",
    "print(arr)\n",
    "max = 0\n",
    "for i in range(len(arr)):\n",
    "    for j in range(len(arr)):\n",
    "        if arr[j][i] > max:\n",
    "            max = arr[j,i]   \n",
    "    print(\"The Max of\",i,\"column ==\", max)\n",
    "    max = 0"
   ]
  },
  {
   "cell_type": "code",
   "execution_count": 373,
   "metadata": {},
   "outputs": [
    {
     "name": "stdout",
     "output_type": "stream",
     "text": [
      "[[7 3 1 3 4]\n",
      " [8 2 6 8 3]\n",
      " [3 3 4 7 2]\n",
      " [7 6 6 7 2]\n",
      " [3 4 3 7 5]]\n",
      "The Min of 0 row == 1\n",
      "The Min of 1 row == 1\n",
      "The Min of 2 row == 1\n",
      "The Min of 3 row == 1\n",
      "The Min of 4 row == 1\n",
      "The min value index of the the matrix = arr[ 0 ][ 2 ]\n"
     ]
    }
   ],
   "source": [
    "arr = np.random.randint(1,10, size=(5,5), dtype=int)\n",
    "print(arr)\n",
    "min = 99999\n",
    "for i in range(len(arr)):\n",
    "    for j in range(len(arr)):\n",
    "        \n",
    "        if arr[i][j] < min:\n",
    "            min = arr[i][j]\n",
    "            m,n = i,j   \n",
    "    print(\"The Min of\",i,\"row ==\", min)\n",
    "\n",
    "print(\"The min value index of the the matrix = arr[\",m,\"][\",n,\"]\" )"
   ]
  },
  {
   "cell_type": "code",
   "execution_count": 389,
   "metadata": {},
   "outputs": [
    {
     "name": "stdout",
     "output_type": "stream",
     "text": [
      "[[4 7 3 2 5]\n",
      " [3 5 8 4 4]\n",
      " [6 8 3 6 9]\n",
      " [1 3 3 5 9]\n",
      " [1 1 4 7 2]]\n",
      "The Min of 0 column == 1\n",
      "The Min of 1 column == 1\n",
      "The Min of 2 column == 1\n",
      "The Min of 3 column == 1\n",
      "The Min of 4 column == 1\n",
      "The min value index of the the matrix = arr[ 0 ][ 3 ]\n"
     ]
    },
    {
     "data": {
      "text/plain": [
       "array([[7, 3, 2, 5],\n",
       "       [5, 8, 4, 4],\n",
       "       [8, 3, 6, 9],\n",
       "       [3, 3, 5, 9],\n",
       "       [1, 4, 7, 2]])"
      ]
     },
     "execution_count": 389,
     "metadata": {},
     "output_type": "execute_result"
    }
   ],
   "source": [
    "# elementi eng kichik bo'lgan ustunni olib tashlash\n",
    "arr = np.random.randint(1,10, size=(5,5), dtype=int)\n",
    "print(arr)\n",
    "min = 99999\n",
    "for i in range(len(arr)):\n",
    "    for j in range(len(arr)):\n",
    "        \n",
    "        if arr[j][i] < min:\n",
    "            min = arr[j][i]\n",
    "            m,n = j,i   \n",
    "    print(\"The Min of\",i,\"column ==\", min)\n",
    "\n",
    "print(\"The min value index of the the matrix = arr[\",n,\"][\",m,\"]\" )\n",
    "\n",
    "arr_del = np.delete(arr,n,1)\n",
    "arr_del"
   ]
  },
  {
   "cell_type": "code",
   "execution_count": 387,
   "metadata": {},
   "outputs": [
    {
     "data": {
      "text/plain": [
       "array([[5, 4, 4, 5, 6],\n",
       "       [1, 5, 6, 4, 7],\n",
       "       [2, 1, 9, 7, 9],\n",
       "       [1, 5, 5, 9, 4],\n",
       "       [4, 8, 2, 3, 4]])"
      ]
     },
     "execution_count": 387,
     "metadata": {},
     "output_type": "execute_result"
    }
   ],
   "source": [
    "arr_del = np.delete(arr,1,1)\n",
    "arr"
   ]
  },
  {
   "cell_type": "code",
   "execution_count": 388,
   "metadata": {},
   "outputs": [
    {
     "data": {
      "text/plain": [
       "array([[5, 4, 5, 6],\n",
       "       [1, 6, 4, 7],\n",
       "       [2, 9, 7, 9],\n",
       "       [1, 5, 9, 4],\n",
       "       [4, 2, 3, 4]])"
      ]
     },
     "execution_count": 388,
     "metadata": {},
     "output_type": "execute_result"
    }
   ],
   "source": [
    "arr_del"
   ]
  },
  {
   "cell_type": "code",
   "execution_count": 391,
   "metadata": {},
   "outputs": [
    {
     "name": "stdout",
     "output_type": "stream",
     "text": [
      "[[7 1 9 9 9]\n",
      " [5 5 2 4 6]\n",
      " [4 1 7 2 6]\n",
      " [4 9 7 9 6]\n",
      " [1 4 9 2 9]]\n",
      "The Min of 0 column == 1\n",
      "The Min of 1 column == 1\n",
      "The Min of 2 column == 1\n",
      "The Min of 3 column == 1\n",
      "The Min of 4 column == 1\n",
      "The min value index of the the matrix = arr[ 0 ][ 1 ]\n"
     ]
    },
    {
     "data": {
      "text/plain": [
       "array([[5, 5, 2, 4, 6],\n",
       "       [4, 1, 7, 2, 6],\n",
       "       [4, 9, 7, 9, 6],\n",
       "       [1, 4, 9, 2, 9]])"
      ]
     },
     "execution_count": 391,
     "metadata": {},
     "output_type": "execute_result"
    }
   ],
   "source": [
    "# elementi eng kichik bo'lgan satrni olib tashlash\n",
    "arr = np.random.randint(1,10, size=(5,5), dtype=int)\n",
    "print(arr)\n",
    "min = 99999\n",
    "for i in range(len(arr)):\n",
    "    for j in range(len(arr)):\n",
    "        \n",
    "        if arr[i][j] < min:\n",
    "            min = arr[i][j]\n",
    "            m,n = i,j   \n",
    "    print(\"The Min of\",i,\"column ==\", min)\n",
    "\n",
    "print(\"The min value index of the the matrix = arr[\",m,\"][\",n,\"]\" )\n",
    "\n",
    "arr_del = np.delete(arr,m,0)\n",
    "arr_del"
   ]
  },
  {
   "cell_type": "code",
   "execution_count": 420,
   "metadata": {},
   "outputs": [
    {
     "name": "stdout",
     "output_type": "stream",
     "text": [
      "[[6 8 2 2 5]\n",
      " [8 1 2 3 1]\n",
      " [9 6 8 7 6]\n",
      " [7 2 8 3 7]\n",
      " [7 8 4 6 2]]\n",
      "The Min of 0 column == 8\n",
      "The Min of 1 column == 8\n",
      "The Min of 2 column == 9\n",
      "The Min of 3 column == 9\n",
      "The Min of 4 column == 9\n",
      "The min value index of the the matrix = arr[ 2 ][ 0 ]\n"
     ]
    },
    {
     "data": {
      "text/plain": [
       "array([[9, 6, 8, 7, 6],\n",
       "       [8, 1, 2, 3, 1],\n",
       "       [6, 8, 2, 2, 5],\n",
       "       [7, 2, 8, 3, 7],\n",
       "       [7, 8, 4, 6, 2]])"
      ]
     },
     "execution_count": 420,
     "metadata": {},
     "output_type": "execute_result"
    }
   ],
   "source": [
    "# Max elementi bor satrni, 0-satr bilan almashtirish \n",
    "arr = np.random.randint(1,10, size=(5,5), dtype=int)\n",
    "print(arr)\n",
    "max = 0\n",
    "\n",
    "for i in range(len(arr)):\n",
    "    for j in range(len(arr)):\n",
    "        \n",
    "        if arr[i][j] > max:\n",
    "            max = arr[i][j]\n",
    "            row_indx,col_indx = i,j   \n",
    "    print(\"The Min of\",i,\"column ==\", max)\n",
    "\n",
    "print(\"The min value index of the the matrix = arr[\",row_indx,\"][\",col_indx,\"]\" )\n",
    "\n",
    "arr[[0, row_indx]] = arr[[row_indx,0]]\n",
    "arr"
   ]
  },
  {
   "cell_type": "code",
   "execution_count": 475,
   "metadata": {},
   "outputs": [
    {
     "name": "stdout",
     "output_type": "stream",
     "text": [
      "[[7 8 5 8 8]\n",
      " [1 9 7 2 7]\n",
      " [8 5 6 9 7]\n",
      " [3 3 9 3 3]\n",
      " [6 2 1 5 4]]\n",
      "The max of 0 column == 8\n",
      "The max of 1 column == 9\n",
      "The max of 2 column == 9\n",
      "The max of 3 column == 9\n",
      "The max of 4 column == 9\n",
      "The max value index of the the matrix = arr[ 1 ][ 1 ]\n"
     ]
    },
    {
     "data": {
      "text/plain": [
       "array([[8, 7, 5, 8, 8],\n",
       "       [9, 1, 7, 2, 7],\n",
       "       [5, 8, 6, 9, 7],\n",
       "       [3, 3, 9, 3, 3],\n",
       "       [2, 6, 1, 5, 4]])"
      ]
     },
     "execution_count": 475,
     "metadata": {},
     "output_type": "execute_result"
    }
   ],
   "source": [
    "# Max elementi bor ustunni, 0-ustun bilan almashtirish \n",
    "arr = np.random.randint(1,10, size=(5,5), dtype=int)\n",
    "print(arr)\n",
    "max = 0\n",
    "\n",
    "for i in range(len(arr)):\n",
    "    for j in range(len(arr)):\n",
    "        \n",
    "        if arr[j][i] > max:\n",
    "            max = arr[j][i]\n",
    "            row_indx,col_indx = j,i   \n",
    "    print(\"The max of\",i,\"column ==\", max)\n",
    "\n",
    "print(\"The max value index of the the matrix = arr[\",col_indx,\"][\",row_indx,\"]\" )\n",
    "\n",
    "arr[:,[0,col_indx]] = arr[:,[col_indx,0]]\n",
    "arr\n"
   ]
  },
  {
   "cell_type": "code",
   "execution_count": 484,
   "metadata": {},
   "outputs": [
    {
     "name": "stdout",
     "output_type": "stream",
     "text": [
      "initial array:\n",
      " [[0. 0. 0. 0. 0.]\n",
      " [0. 0. 0. 0. 0.]\n",
      " [0. 0. 0. 0. 0.]\n",
      " [0. 0. 0. 0. 0.]\n",
      " [0. 0. 0. 0. 0.]]\n",
      "Result:\n",
      " [[1. 1. 1. 1. 1.]\n",
      " [0. 1. 1. 1. 1.]\n",
      " [0. 0. 1. 1. 1.]\n",
      " [0. 0. 0. 1. 1.]\n",
      " [0. 0. 0. 0. 1.]]\n"
     ]
    }
   ],
   "source": [
    "a = np.zeros((5,5))\n",
    "print(\"initial array:\\n\",a)\n",
    "l = len(arr)\n",
    "for i in range(l):\n",
    "    for j in range(i,l):\n",
    "        a[i,j] = 1\n",
    "\n",
    "print(\"Result:\\n\",a)"
   ]
  },
  {
   "cell_type": "code",
   "execution_count": 488,
   "metadata": {},
   "outputs": [
    {
     "name": "stdout",
     "output_type": "stream",
     "text": [
      "initial array:\n",
      " [[0. 0. 0. 0. 0.]\n",
      " [0. 0. 0. 0. 0.]\n",
      " [0. 0. 0. 0. 0.]\n",
      " [0. 0. 0. 0. 0.]\n",
      " [0. 0. 0. 0. 0.]]\n",
      "Result:\n",
      "[[1. 0. 0. 0. 0.]\n",
      " [1. 1. 0. 0. 0.]\n",
      " [1. 1. 1. 0. 0.]\n",
      " [1. 1. 1. 1. 0.]\n",
      " [1. 1. 1. 1. 1.]]\n"
     ]
    }
   ],
   "source": [
    "a = np.zeros((5,5))\n",
    "print(\"initial array:\\n\",a)\n",
    "l = len(arr)\n",
    "for i in range(l):\n",
    "    for j in range(0,i+1):\n",
    "        a[i,j] = 1\n",
    "\n",
    "print(\"Result:\")\n",
    "print(a)"
   ]
  },
  {
   "cell_type": "code",
   "execution_count": 491,
   "metadata": {},
   "outputs": [
    {
     "name": "stdout",
     "output_type": "stream",
     "text": [
      "initial array:\n",
      " [[0. 0. 0. 0. 0.]\n",
      " [0. 0. 0. 0. 0.]\n",
      " [0. 0. 0. 0. 0.]\n",
      " [0. 0. 0. 0. 0.]\n",
      " [0. 0. 0. 0. 0.]]\n",
      "Result:\n",
      "[[0. 0. 0. 0. 1.]\n",
      " [0. 0. 0. 1. 1.]\n",
      " [0. 0. 1. 1. 1.]\n",
      " [0. 1. 1. 1. 1.]\n",
      " [1. 1. 1. 1. 1.]]\n"
     ]
    }
   ],
   "source": [
    "a = np.zeros((5,5))\n",
    "print(\"initial array:\\n\",a)\n",
    "l = len(arr)\n",
    "for i in range(l):\n",
    "    for j in range(l-i-1, l):\n",
    "        a[i,j] = 1\n",
    "\n",
    "print(\"Result:\")\n",
    "print(a)"
   ]
  },
  {
   "cell_type": "code",
   "execution_count": 492,
   "metadata": {},
   "outputs": [
    {
     "name": "stdout",
     "output_type": "stream",
     "text": [
      "initial array:\n",
      " [[0. 0. 0. 0. 0.]\n",
      " [0. 0. 0. 0. 0.]\n",
      " [0. 0. 0. 0. 0.]\n",
      " [0. 0. 0. 0. 0.]\n",
      " [0. 0. 0. 0. 0.]]\n",
      "Result:\n",
      "[[1. 1. 1. 1. 1.]\n",
      " [1. 1. 1. 1. 0.]\n",
      " [1. 1. 1. 0. 0.]\n",
      " [1. 1. 0. 0. 0.]\n",
      " [1. 0. 0. 0. 0.]]\n"
     ]
    }
   ],
   "source": [
    "a = np.zeros((5,5))\n",
    "print(\"initial array:\\n\",a)\n",
    "l = len(arr)\n",
    "for i in range(l):\n",
    "    for j in range(0, l-i):\n",
    "        a[i,j] = 1\n",
    "\n",
    "print(\"Result:\")\n",
    "print(a)"
   ]
  },
  {
   "cell_type": "code",
   "execution_count": 495,
   "metadata": {},
   "outputs": [
    {
     "name": "stdout",
     "output_type": "stream",
     "text": [
      "initial array:\n",
      " [[0. 0. 0. 0. 0.]\n",
      " [0. 0. 0. 0. 0.]\n",
      " [0. 0. 0. 0. 0.]\n",
      " [0. 0. 0. 0. 0.]\n",
      " [0. 0. 0. 0. 0.]]\n",
      "Result:\n",
      "[[1. 1. 1. 1. 1.]\n",
      " [0. 1. 1. 1. 0.]\n",
      " [0. 0. 1. 0. 0.]\n",
      " [0. 0. 0. 0. 0.]\n",
      " [0. 0. 0. 0. 0.]]\n"
     ]
    }
   ],
   "source": [
    "a = np.zeros((5,5))\n",
    "print(\"initial array:\\n\",a)\n",
    "l = len(arr)\n",
    "for i in range(l):\n",
    "    for j in range(i, l-i):\n",
    "        a[i,j] = 1\n",
    "\n",
    "print(\"Result:\")\n",
    "print(a)"
   ]
  },
  {
   "cell_type": "code",
   "execution_count": 505,
   "metadata": {},
   "outputs": [
    {
     "name": "stdout",
     "output_type": "stream",
     "text": [
      "initial array:\n",
      " [[0. 0. 0. 0. 0.]\n",
      " [0. 0. 0. 0. 0.]\n",
      " [0. 0. 0. 0. 0.]\n",
      " [0. 0. 0. 0. 0.]\n",
      " [0. 0. 0. 0. 0.]]\n",
      "Result:\n",
      "[[0. 0. 0. 0. 0.]\n",
      " [0. 0. 0. 0. 0.]\n",
      " [0. 0. 1. 0. 0.]\n",
      " [0. 1. 1. 1. 0.]\n",
      " [1. 1. 1. 1. 1.]]\n"
     ]
    }
   ],
   "source": [
    "a = np.zeros((5,5))\n",
    "print(\"initial array:\\n\",a)\n",
    "l = len(arr)\n",
    "for i in range(l-1,0,-1):\n",
    "    for j in range(l-1-i, i+1):\n",
    "        a[i,j] = 1\n",
    "\n",
    "print(\"Result:\")\n",
    "print(a)"
   ]
  },
  {
   "cell_type": "code",
   "execution_count": 512,
   "metadata": {},
   "outputs": [
    {
     "name": "stdout",
     "output_type": "stream",
     "text": [
      "initial array:\n",
      " [[0. 0. 0. 0. 0.]\n",
      " [0. 0. 0. 0. 0.]\n",
      " [0. 0. 0. 0. 0.]\n",
      " [0. 0. 0. 0. 0.]\n",
      " [0. 0. 0. 0. 0.]]\n",
      "Result:\n",
      "[[1. 1. 1. 1. 1.]\n",
      " [0. 1. 1. 1. 0.]\n",
      " [0. 0. 1. 0. 0.]\n",
      " [0. 0. 1. 0. 0.]\n",
      " [0. 0. 1. 0. 0.]]\n"
     ]
    }
   ],
   "source": [
    "a = np.zeros((5,5))\n",
    "print(\"initial array:\\n\",a)\n",
    "l = len(arr)\n",
    "for i in range(l):\n",
    "    for j in range(i, l-i):\n",
    "        a[i,j] = 1\n",
    "    if i >= 2:\n",
    "        for k in range(l-i-1, i):\n",
    "            a[i,j] = 1\n",
    "\n",
    "print(\"Result:\")\n",
    "print(a)"
   ]
  },
  {
   "cell_type": "code",
   "execution_count": 518,
   "metadata": {},
   "outputs": [
    {
     "name": "stdout",
     "output_type": "stream",
     "text": [
      "initial array:\n",
      " [[0. 0. 0. 0. 0.]\n",
      " [0. 0. 0. 0. 0.]\n",
      " [0. 0. 0. 0. 0.]\n",
      " [0. 0. 0. 0. 0.]\n",
      " [0. 0. 0. 0. 0.]]\n",
      "Result:\n",
      "[[1. 1. 1. 1. 1.]\n",
      " [0. 1. 1. 1. 0.]\n",
      " [0. 0. 1. 0. 0.]\n",
      " [0. 1. 1. 1. 0.]\n",
      " [1. 1. 1. 1. 1.]]\n"
     ]
    }
   ],
   "source": [
    "a = np.zeros((5,5))\n",
    "print(\"initial array:\\n\",a)\n",
    "l = len(arr)\n",
    "for i in range(l):\n",
    "    if i <= 2:\n",
    "        for j in range(i,l-i):\n",
    "            a[i,j] = 1\n",
    "    if i > 2:\n",
    "        for k in range(l-1-i, i+1):\n",
    "            a[i,k] = 1\n",
    "            \n",
    "print(\"Result:\")\n",
    "print(a)"
   ]
  },
  {
   "cell_type": "code",
   "execution_count": 520,
   "metadata": {},
   "outputs": [
    {
     "name": "stdout",
     "output_type": "stream",
     "text": [
      "initial array:\n",
      " [[0. 0. 0. 0. 0.]\n",
      " [0. 0. 0. 0. 0.]\n",
      " [0. 0. 0. 0. 0.]\n",
      " [0. 0. 0. 0. 0.]\n",
      " [0. 0. 0. 0. 0.]]\n",
      "Result:\n",
      "[[0. 0. 0. 0. 1.]\n",
      " [0. 0. 0. 1. 1.]\n",
      " [0. 0. 1. 1. 1.]\n",
      " [0. 0. 0. 1. 1.]\n",
      " [0. 0. 0. 0. 1.]]\n"
     ]
    }
   ],
   "source": [
    "a = np.zeros((5,5))\n",
    "print(\"initial array:\\n\",a)\n",
    "l = len(arr)\n",
    "for i in range(l):\n",
    "    if i <= 2:\n",
    "        for j in range(l-1-i,l):\n",
    "            a[i,j] = 1\n",
    "    if i > 2:\n",
    "        for k in range(i, l):\n",
    "            a[i,k] = 1\n",
    "            \n",
    "print(\"Result:\")\n",
    "print(a)"
   ]
  },
  {
   "cell_type": "code",
   "execution_count": 523,
   "metadata": {},
   "outputs": [
    {
     "name": "stdout",
     "output_type": "stream",
     "text": [
      "initial array:\n",
      " [[0. 0. 0. 0. 0.]\n",
      " [0. 0. 0. 0. 0.]\n",
      " [0. 0. 0. 0. 0.]\n",
      " [0. 0. 0. 0. 0.]\n",
      " [0. 0. 0. 0. 0.]]\n",
      "Result:\n",
      "[[1. 0. 0. 0. 0.]\n",
      " [1. 1. 0. 0. 0.]\n",
      " [1. 1. 1. 0. 0.]\n",
      " [1. 1. 0. 0. 0.]\n",
      " [1. 0. 0. 0. 0.]]\n"
     ]
    }
   ],
   "source": [
    "a = np.zeros((5,5))\n",
    "print(\"initial array:\\n\",a)\n",
    "l = len(arr)\n",
    "for i in range(l):\n",
    "    if i <= 2:\n",
    "        for j in range(0,l-(l-i)+1):\n",
    "            a[i,j] = 1\n",
    "    if i >= 2:\n",
    "        for k in range(0, l-i):\n",
    "            a[i,k] = 1\n",
    "            \n",
    "print(\"Result:\")\n",
    "print(a)"
   ]
  },
  {
   "cell_type": "code",
   "execution_count": 8,
   "metadata": {},
   "outputs": [
    {
     "name": "stdout",
     "output_type": "stream",
     "text": [
      "initial array:\n",
      " [[0. 0. 0. 0. 0.]\n",
      " [0. 0. 0. 0. 0.]\n",
      " [0. 0. 0. 0. 0.]\n",
      " [0. 0. 0. 0. 0.]\n",
      " [0. 0. 0. 0. 0.]]\n",
      "Result:\n",
      "[[1. 0. 0. 0. 1.]\n",
      " [1. 1. 0. 1. 1.]\n",
      " [1. 1. 1. 1. 1.]\n",
      " [1. 1. 0. 1. 1.]\n",
      " [1. 0. 0. 0. 1.]]\n"
     ]
    }
   ],
   "source": [
    "a = np.zeros((5,5))\n",
    "print(\"initial array:\\n\",a)\n",
    "l = len(a)\n",
    "for i in range(l):\n",
    "    if i <= 2:\n",
    "        for j in range(0,l-(l-i)+1):\n",
    "            a[i,j] = 1\n",
    "        for x in range(l-1-i, l):\n",
    "            a[i,x] = 1\n",
    "    if i >= 2:\n",
    "        for k in range(0, l-i):\n",
    "            a[i,k] = 1\n",
    "        for y in range(i, l):\n",
    "            a[i,y] = 1\n",
    "            \n",
    "print(\"Result:\")\n",
    "print(a)"
   ]
  },
  {
   "cell_type": "code",
   "execution_count": 2,
   "metadata": {},
   "outputs": [
    {
     "name": "stdout",
     "output_type": "stream",
     "text": [
      "Original Array:\n",
      "[[22 14  8 19  6]\n",
      " [ 1  1 21  5  7]\n",
      " [20 19  1  7 15]\n",
      " [11  2  1  5  1]\n",
      " [15 16 11 17 16]]\n",
      "1\n",
      "1\n",
      "1\n",
      "1\n",
      "1\n",
      "1\n",
      "1\n",
      "1\n",
      "1\n",
      "1\n",
      "1\n",
      "1\n",
      "1\n",
      "1\n",
      "1\n"
     ]
    }
   ],
   "source": []
  },
  {
   "cell_type": "code",
   "execution_count": null,
   "metadata": {},
   "outputs": [],
   "source": [
    "import numpy as np \n",
    "a = np.random.randint(0,25, size=(5,5))\n",
    "print(\"Original Array:\")\n",
    "print(a)\n",
    "l = len(a)\n",
    "min = 999\n",
    "for i in range(l):\n",
    "    for j in range(i,l):\n",
    "        for k in range(j,l):\n",
    "            for m in range(k,l):    \n",
    "                if a[k,m] < min:\n",
    "                    min  = a[k,m]\n",
    "                    row_indx, col_indx = k,m\n",
    "\n",
    "\n",
    "        print(min)\n",
    "\n"
   ]
  },
  {
   "cell_type": "code",
   "execution_count": 2,
   "metadata": {},
   "outputs": [
    {
     "name": "stdout",
     "output_type": "stream",
     "text": [
      "[[3 8 2]\n",
      " [8 8 4]\n",
      " [7 7 4]]\n",
      "Result:\n",
      "[[2 3 4]\n",
      " [4 7 8]\n",
      " [7 8 8]]\n"
     ]
    }
   ],
   "source": [
    "import numpy as np \n",
    "a = np.random.randint(1,10, size=(3,3))\n",
    "print(a)\n",
    "l = len(a)\n",
    "for row in range(l):\n",
    "    for col in range(l):\n",
    "        Min = a[row,col]\n",
    "        row_in, col_in = row,col\n",
    "        for r in range(row,l):\n",
    "            for c in range(col,l):\n",
    "                if a[r,c] < Min:\n",
    "                    Min = a[r,c]\n",
    "                    row_in, col_in = r,c\n",
    "        \n",
    "        temp = a[row,col]\n",
    "        a[row,col] = Min\n",
    "        a[row_in,col_in] = temp\n",
    "print(\"Result:\")\n",
    "print(a)"
   ]
  },
  {
   "cell_type": "code",
   "execution_count": null,
   "metadata": {},
   "outputs": [],
   "source": []
  }
 ],
 "metadata": {
  "interpreter": {
   "hash": "f0177d502430401c4e4cadd4d59cc3ddebe0dcb8912ce91efb714c41c8918e58"
  },
  "kernelspec": {
   "display_name": "Python 3.8.11 64-bit ('tf2-gpu': conda)",
   "language": "python",
   "name": "python3"
  },
  "language_info": {
   "codemirror_mode": {
    "name": "ipython",
    "version": 3
   },
   "file_extension": ".py",
   "mimetype": "text/x-python",
   "name": "python",
   "nbconvert_exporter": "python",
   "pygments_lexer": "ipython3",
   "version": "3.8.12"
  },
  "orig_nbformat": 4
 },
 "nbformat": 4,
 "nbformat_minor": 2
}
