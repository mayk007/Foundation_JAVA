{
 "cells": [
  {
   "cell_type": "markdown",
   "metadata": {},
   "source": [
    "# Matrixlarni hosil qilish va uning elementlarini chiqarish "
   ]
  },
  {
   "cell_type": "markdown",
   "metadata": {},
   "source": [
    "## Matrix1"
   ]
  },
  {
   "cell_type": "code",
   "execution_count": 7,
   "metadata": {},
   "outputs": [
    {
     "name": "stdout",
     "output_type": "stream",
     "text": [
      "Original matrix:\n",
      "[[3 6 6]\n",
      " [6 4 3]\n",
      " [8 7 4]]\n"
     ]
    },
    {
     "data": {
      "text/plain": [
       "array([[ 0,  0,  0],\n",
       "       [10, 10, 10],\n",
       "       [20, 20, 20]])"
      ]
     },
     "execution_count": 7,
     "metadata": {},
     "output_type": "execute_result"
    }
   ],
   "source": [
    "import numpy as np\n",
    "a = np.random.randint(1,10, size=(3,3))\n",
    "print(\"Original matrix:\")\n",
    "print(a)\n",
    "l = len(a)\n",
    "\n",
    "for i in range(l):\n",
    "    for j in range(l):\n",
    "        a[i,j] = 10 * i\n",
    "\n",
    "a"
   ]
  },
  {
   "cell_type": "code",
   "execution_count": 8,
   "metadata": {},
   "outputs": [
    {
     "name": "stdout",
     "output_type": "stream",
     "text": [
      "Original matrix:\n",
      "[[9 2 8]\n",
      " [3 3 2]\n",
      " [7 2 8]]\n"
     ]
    },
    {
     "data": {
      "text/plain": [
       "array([[ 0,  0,  0],\n",
       "       [ 5,  5,  5],\n",
       "       [10, 10, 10]])"
      ]
     },
     "execution_count": 8,
     "metadata": {},
     "output_type": "execute_result"
    }
   ],
   "source": [
    "import numpy as np\n",
    "a = np.random.randint(1,10, size=(3,3))\n",
    "print(\"Original matrix:\")\n",
    "print(a)\n",
    "l = len(a)\n",
    "\n",
    "for i in range(l):\n",
    "    for j in range(l):\n",
    "        a[j,i] = 5*j\n",
    "\n",
    "a"
   ]
  },
  {
   "cell_type": "code",
   "execution_count": 13,
   "metadata": {},
   "outputs": [
    {
     "name": "stdout",
     "output_type": "stream",
     "text": [
      "Original matrix:\n",
      "[[7 3 9]\n",
      " [6 7 9]\n",
      " [7 3 6]]\n",
      "Matritsa 2 - satr elementlari: \n",
      "7\n",
      "3\n",
      "6\n",
      "Yi'gindi: 16\n",
      "Ko'paytma: 126 \n"
     ]
    }
   ],
   "source": [
    "import numpy as np\n",
    "a = np.random.randint(1,10, size=(3,3))\n",
    "print(\"Original matrix:\")\n",
    "print(a)\n",
    "l = len(a)\n",
    "k = 2\n",
    "yigindi = 0\n",
    "kopaytma = 1\n",
    "print(f\"Matritsa {k} - satr elementlari: \")\n",
    "for i in range(k,k+1):\n",
    "    for j in range(l):\n",
    "        yigindi += a[i,j]\n",
    "        kopaytma *= a[i,j]\n",
    "        print(a[i,j])\n",
    "   \n",
    "print(f\"Yi'gindi: {yigindi}\\nKo'paytma: {kopaytma} \")\n",
    "\n"
   ]
  },
  {
   "cell_type": "markdown",
   "metadata": {},
   "source": [
    "## array18"
   ]
  },
  {
   "cell_type": "code",
   "execution_count": 14,
   "metadata": {},
   "outputs": [
    {
     "name": "stdout",
     "output_type": "stream",
     "text": [
      "Original matrix:\n",
      "[[7 6 4]\n",
      " [8 4 2]\n",
      " [1 5 7]]\n",
      "Matritsa 2 - ustun elementlari: \n",
      "4\n",
      "2\n",
      "7\n",
      "Yi'gindi: 13\n",
      "Ko'paytma: 56 \n"
     ]
    }
   ],
   "source": [
    "# matritsa ustun elementlari yig'indisi va ko'paytmasi \n",
    "import numpy as np\n",
    "a = np.random.randint(1,10, size=(3,3))\n",
    "print(\"Original matrix:\")\n",
    "print(a)\n",
    "l = len(a)\n",
    "k = 2\n",
    "yigindi = 0\n",
    "kopaytma = 1\n",
    "print(f\"Matritsa {k} - ustun elementlari: \")\n",
    "for i in range(k,k+1):\n",
    "    for j in range(l):\n",
    "        yigindi += a[j,i]\n",
    "        kopaytma *= a[j,i]\n",
    "        print(a[j,i])\n",
    "   \n",
    "print(f\"Yi'gindi: {yigindi}\\nKo'paytma: {kopaytma} \")"
   ]
  },
  {
   "cell_type": "code",
   "execution_count": 15,
   "metadata": {},
   "outputs": [
    {
     "name": "stdout",
     "output_type": "stream",
     "text": [
      "Original matrix:\n",
      "[[5 5 2]\n",
      " [6 1 6]\n",
      " [1 4 9]]\n",
      "Matritsa 2 - ustun elementlari: \n",
      "2\n",
      "6\n",
      "9\n",
      "Yi'gindi: 17\n",
      "Ko'paytma: 108 \n"
     ]
    }
   ],
   "source": [
    "# matritsa ustun elementlari yig'indisi va ko'paytmasi \n",
    "# 2-usul\n",
    "import numpy as np\n",
    "a = np.random.randint(1,10, size=(3,3))\n",
    "print(\"Original matrix:\")\n",
    "print(a)\n",
    "l = len(a)\n",
    "k = 2\n",
    "yigindi = 0\n",
    "kopaytma = 1\n",
    "print(f\"Matritsa {k} - ustun elementlari: \")\n",
    "for i in range(l):\n",
    "    for j in range(l):\n",
    "        if i == k:\n",
    "            yigindi += a[j,i]\n",
    "            kopaytma *= a[j,i]\n",
    "            print(a[j,i])\n",
    "    \n",
    "print(f\"Yi'gindi: {yigindi}\\nKo'paytma: {kopaytma} \")"
   ]
  },
  {
   "cell_type": "markdown",
   "metadata": {},
   "source": [
    "## array19"
   ]
  },
  {
   "cell_type": "code",
   "execution_count": 21,
   "metadata": {},
   "outputs": [
    {
     "name": "stdout",
     "output_type": "stream",
     "text": [
      "Original matrix:\n",
      "[[6 2 6]\n",
      " [6 4 4]\n",
      " [2 2 3]]\n",
      "Matritsa 2 - satr elementlari: \n",
      " 0 - satr yigindisi = 14\n",
      " 1 - satr yigindisi = 14\n",
      " 2 - satr yigindisi = 7\n"
     ]
    }
   ],
   "source": [
    "# matritsaning har bir satr elementlari yig'indisi\n",
    "import numpy as np\n",
    "a = np.random.randint(1,10, size=(3,3))\n",
    "print(\"Original matrix:\")\n",
    "print(a)\n",
    "l = len(a)\n",
    "\n",
    "print(f\"Matritsa {k} - satr elementlari: \")\n",
    "for i in range(l):\n",
    "    yigindi = 0\n",
    "    for j in range(l):\n",
    "        yigindi += a[i,j]\n",
    "    print(f\" {i} - satr yigindisi = {yigindi}\")\n",
    "\n",
    "   \n"
   ]
  },
  {
   "cell_type": "markdown",
   "metadata": {},
   "source": [
    "## array20"
   ]
  },
  {
   "cell_type": "code",
   "execution_count": 36,
   "metadata": {},
   "outputs": [
    {
     "name": "stdout",
     "output_type": "stream",
     "text": [
      "Original matrix:\n",
      "[[1 5 9]\n",
      " [4 4 7]\n",
      " [2 1 3]]\n",
      " 0 - ustun yigindisi = 8\n",
      " 1 - ustun yigindisi = 20\n",
      " 2 - ustun yigindisi = 189\n"
     ]
    }
   ],
   "source": [
    "# matritsaning har bir ustuni elementlari ko'paytmasi\n",
    "import numpy as np\n",
    "a = np.random.randint(1,10, size=(3,3))\n",
    "print(\"Original matrix:\")\n",
    "print(a)\n",
    "l = len(a)\n",
    "\n",
    "for i in range(l):\n",
    "    kopaytma = 1\n",
    "    for j in range(l):\n",
    "        kopaytma *= a[j,i]\n",
    "    print(f\" {i} - ustun yigindisi = {kopaytma}\")"
   ]
  },
  {
   "cell_type": "markdown",
   "metadata": {},
   "source": [
    "## array21"
   ]
  },
  {
   "cell_type": "code",
   "execution_count": 37,
   "metadata": {},
   "outputs": [
    {
     "name": "stdout",
     "output_type": "stream",
     "text": [
      "Original matrix:\n",
      "[[4 4 7 3 5]\n",
      " [1 5 6 4 4]\n",
      " [4 2 3 5 4]\n",
      " [5 5 5 4 9]\n",
      " [9 1 5 9 3]]\n",
      " 0 - satr o'rta arifmetigi = 3.5\n",
      " 1 - satr o'rta arifmetigi = 4.5\n",
      " 2 - satr o'rta arifmetigi = 3.5\n",
      " 3 - satr o'rta arifmetigi = 4.5\n",
      " 4 - satr o'rta arifmetigi = 5.0\n"
     ]
    }
   ],
   "source": [
    "# matritsaning har bir satri uchun toq indexli ustulari o'rta arifmetigini chiqarish (do not use if statement)\n",
    "import numpy as np\n",
    "a = np.random.randint(1,10, size=(5,5))\n",
    "print(\"Original matrix:\")\n",
    "print(a)\n",
    "l = len(a)\n",
    "\n",
    "for i in range(l):\n",
    "    yigindi = 0\n",
    "    count = 0\n",
    "    for j in range(1, l, 2):\n",
    "        yigindi += a[i,j]\n",
    "        count += 1\n",
    "    result = yigindi / count\n",
    "    print(f\" {i} - satr o'rta arifmetigi = {result}\")"
   ]
  },
  {
   "cell_type": "markdown",
   "metadata": {},
   "source": [
    "## array22"
   ]
  },
  {
   "cell_type": "code",
   "execution_count": 39,
   "metadata": {},
   "outputs": [
    {
     "name": "stdout",
     "output_type": "stream",
     "text": [
      "Original matrix:\n",
      "[[1 9 4 5 8]\n",
      " [7 8 4 6 1]\n",
      " [8 7 6 5 1]\n",
      " [2 6 5 9 6]\n",
      " [6 8 2 7 2]]\n",
      " 0 - ustuning 2 ga karrali satrlarning yig'indisini  = 16\n",
      " 1 - ustuning 2 ga karrali satrlarning yig'indisini  = 22\n",
      " 2 - ustuning 2 ga karrali satrlarning yig'indisini  = 16\n",
      " 3 - ustuning 2 ga karrali satrlarning yig'indisini  = 6\n",
      " 4 - ustuning 2 ga karrali satrlarning yig'indisini  = 16\n"
     ]
    }
   ],
   "source": [
    "# matritsaning har bir ustuni uchun 2 ga karrali satrlarning yig'indisini chiqarish (do not use if statement)\n",
    "import numpy as np\n",
    "a = np.random.randint(1,10, size=(5,5))\n",
    "print(\"Original matrix:\")\n",
    "print(a)\n",
    "l = len(a)\n",
    "\n",
    "for i in range(l):\n",
    "    yigindi = 0\n",
    "    for j in range(l):\n",
    "        if a[j,i] % 2 == 0:\n",
    "            yigindi += a[j,i]\n",
    "\n",
    "    print(f\" {i} - ustuning 2 ga karrali satrlarning yig'indisini  = {yigindi}\")"
   ]
  },
  {
   "cell_type": "markdown",
   "metadata": {},
   "source": [
    "## array23\n"
   ]
  },
  {
   "cell_type": "code",
   "execution_count": 40,
   "metadata": {},
   "outputs": [
    {
     "name": "stdout",
     "output_type": "stream",
     "text": [
      "Original matrix:\n",
      "[[2 1 7 8 4]\n",
      " [9 4 1 3 8]\n",
      " [6 4 2 1 6]\n",
      " [4 2 9 3 1]\n",
      " [4 4 5 3 8]]\n",
      " 0 - satrining eng kichik elementini   = 1\n",
      " 1 - satrining eng kichik elementini   = 1\n",
      " 2 - satrining eng kichik elementini   = 1\n",
      " 3 - satrining eng kichik elementini   = 1\n",
      " 4 - satrining eng kichik elementini   = 3\n"
     ]
    }
   ],
   "source": [
    "# matritsa har bir satrining eng kichik elementini chiqarish.\n",
    "import numpy as np\n",
    "a = np.random.randint(1,10, size=(5,5))\n",
    "print(\"Original matrix:\")\n",
    "print(a)\n",
    "l = len(a)\n",
    "\n",
    "for i in range(l):\n",
    "    min = a[i,0]\n",
    "    for j in range(l):\n",
    "        if a[i,j] < min:\n",
    "            min = a[i,j]\n",
    "    print(f\" {i} - satrining eng kichik elementini   = {min}\")"
   ]
  },
  {
   "cell_type": "markdown",
   "metadata": {},
   "source": [
    "## array24"
   ]
  },
  {
   "cell_type": "code",
   "execution_count": 45,
   "metadata": {},
   "outputs": [
    {
     "name": "stdout",
     "output_type": "stream",
     "text": [
      "Original matrix:\n",
      "[[7 6 6 3 5]\n",
      " [4 3 7 3 7]\n",
      " [7 2 7 6 9]\n",
      " [3 6 4 5 3]\n",
      " [5 9 3 3 7]]\n",
      " 0 - ustunning eng katta elementi   = 7\n",
      " 1 - ustunning eng katta elementi   = 9\n",
      " 2 - ustunning eng katta elementi   = 7\n",
      " 3 - ustunning eng katta elementi   = 6\n",
      " 4 - ustunning eng katta elementi   = 9\n"
     ]
    }
   ],
   "source": [
    "# matritsa har bir ustunining  eng katta elementini chiqarish.\n",
    "import numpy as np\n",
    "a = np.random.randint(1,10, size=(5,5))\n",
    "print(\"Original matrix:\")\n",
    "print(a)\n",
    "l = len(a)\n",
    "\n",
    "for i in range(l):\n",
    "    max = a[0,i]\n",
    "    for j in range(l):\n",
    "        if a[j,i] > max:\n",
    "            max = a[j,i]\n",
    "    print(f\" {i} - ustunning eng katta elementi   = {max}\")"
   ]
  },
  {
   "cell_type": "markdown",
   "metadata": {},
   "source": [
    "## array25"
   ]
  },
  {
   "cell_type": "code",
   "execution_count": 61,
   "metadata": {},
   "outputs": [
    {
     "name": "stdout",
     "output_type": "stream",
     "text": [
      "Original matrix:\n",
      "[[1 7 1 9 9]\n",
      " [1 3 4 8 1]\n",
      " [2 6 6 8 7]\n",
      " [6 7 5 7 6]\n",
      " [7 4 5 3 7]]\n",
      " 0 - satr yi'gindisi   = 27\n",
      " 1 - satr yi'gindisi   = 17\n",
      " 2 - satr yi'gindisi   = 29\n",
      " 3 - satr yi'gindisi   = 31\n",
      " 4 - satr yi'gindisi   = 26\n",
      "Elementlari yig'indisi eng katta bo'lgan satr indeksi = 3 \n",
      "Satr elementlari yig'indisi = 31\n"
     ]
    }
   ],
   "source": [
    "# matritsa elementlari yig'indisi eng katta bo'lgan satrning indexsi va shu satr elementlari yig'indisini chiqarish.\n",
    "import numpy as np\n",
    "a = np.random.randint(1,10, size=(5,5))\n",
    "print(\"Original matrix:\")\n",
    "print(a)\n",
    "l = len(a)\n",
    "maxi = 0\n",
    "for i in range(l):\n",
    "    sum = 0\n",
    "    for j in range(l):\n",
    "        sum += a[i,j]\n",
    "\n",
    "    if sum > maxi:\n",
    "        maxi = sum \n",
    "        indx = i\n",
    "     \n",
    "    print(f\" {i} - satr yi'gindisi   = {sum}\")\n",
    "print(f\"Elementlari yig'indisi eng katta bo'lgan satr indeksi = {indx} \\nSatr elementlari yig'indisi = {maxi}\")"
   ]
  },
  {
   "cell_type": "markdown",
   "metadata": {},
   "source": [
    "## array26"
   ]
  },
  {
   "cell_type": "code",
   "execution_count": 76,
   "metadata": {},
   "outputs": [
    {
     "name": "stdout",
     "output_type": "stream",
     "text": [
      "Original matrix:\n",
      "[[1 7 1]\n",
      " [4 7 5]\n",
      " [5 1 9]]\n",
      " 0 - ustun elementlari ko'paytmasi   = 20\n",
      " 1 - ustun elementlari ko'paytmasi   = 49\n",
      " 2 - ustun elementlari ko'paytmasi   = 45\n",
      "Elementlari ko'paytmasi eng kichik bo'lgan ustun indexsi = 0 \n",
      "Elementlari ko'paytmasi = 20\n"
     ]
    }
   ],
   "source": [
    "# matritsa elementlari ko'paytmasi eng kichik bo'lgan ustunnig indexsi va shu  ustun elementlari ko'paytmasini chiqarish.\n",
    "import numpy as np\n",
    "a = np.random.randint(1,10, size=(3,3))\n",
    "print(\"Original matrix:\")\n",
    "print(a)\n",
    "l = len(a)\n",
    "\n",
    "maxi = 999999999999\n",
    "for i in range(l):\n",
    "    sum = 1\n",
    "    for j in range(l):\n",
    "        sum *= a[j,i]\n",
    "\n",
    "    if sum < maxi:\n",
    "        maxi = sum \n",
    "        indx = i\n",
    "     \n",
    "    print(f\" {i} - ustun elementlari ko'paytmasi   = {sum}\")\n",
    "print(f\"Elementlari ko'paytmasi eng kichik bo'lgan ustun indexsi = {indx} \\nElementlari ko'paytmasi = {maxi}\")"
   ]
  },
  {
   "cell_type": "markdown",
   "metadata": {},
   "source": [
    "## array27"
   ]
  },
  {
   "cell_type": "code",
   "execution_count": 89,
   "metadata": {},
   "outputs": [
    {
     "name": "stdout",
     "output_type": "stream",
     "text": [
      "Original matrix:\n",
      "[[6 8 4 3 5]\n",
      " [3 7 8 6 4]\n",
      " [3 5 2 4 5]\n",
      " [4 1 2 7 1]\n",
      " [6 5 7 6 7]]\n",
      " 0 - satr yi'gindisi   = 26\n",
      " 1 - satr yi'gindisi   = 28\n",
      " 2 - satr yi'gindisi   = 19\n",
      " 3 - satr yi'gindisi   = 15\n",
      " 4 - satr yi'gindisi   = 31\n",
      "Elementlari yig'indisi eng kichik bo'lgan satr indeksi = 3 \n",
      "satrning eng katta elementi = 7\n"
     ]
    }
   ],
   "source": [
    "# matritsa elementlari yig'indisi eng kichik bo'lgan satrning eng katta elementini chiqarish.\n",
    "import numpy as np\n",
    "a = np.random.randint(1,10, size=(5,5))\n",
    "print(\"Original matrix:\")\n",
    "print(a)\n",
    "l = len(a)\n",
    "MIN = 999999999\n",
    "MAX = 0\n",
    "\n",
    "# 1- elementlari yig'indisi eng kichik bo'lgan satrni topib olamiz\n",
    "for i in range(l):\n",
    "    sum = 0\n",
    "    for j in range(l):\n",
    "        sum += a[i,j]\n",
    "\n",
    "    if sum < MIN:\n",
    "        MIN = sum \n",
    "        indx = i\n",
    "    print(f\" {i} - satr yi'gindisi   = {sum}\")\n",
    "\n",
    "# keyin ushbu satrdagi eng katta elementni topib natijani ekranga chiqaramiz\n",
    "for row in range(l):\n",
    "    for col in range(l):\n",
    "        if row == indx:\n",
    "\n",
    "            if a[row,col] > MAX:\n",
    "                MAX = a[row,col]\n",
    "     \n",
    "    \n",
    "print(f\"Elementlari yig'indisi eng kichik bo'lgan satr indeksi = {indx} \\nsatrning eng katta elementi = {MAX}\")"
   ]
  },
  {
   "cell_type": "markdown",
   "metadata": {},
   "source": [
    "## array28"
   ]
  },
  {
   "cell_type": "code",
   "execution_count": 94,
   "metadata": {},
   "outputs": [
    {
     "name": "stdout",
     "output_type": "stream",
     "text": [
      "Original matrix:\n",
      "[[2 9 3 5 7]\n",
      " [5 3 1 1 2]\n",
      " [7 7 8 9 8]\n",
      " [3 9 7 8 5]\n",
      " [3 7 7 8 5]]\n",
      " 0 - ustun yi'gindisi   = 20\n",
      " 1 - ustun yi'gindisi   = 35\n",
      " 2 - ustun yi'gindisi   = 26\n",
      " 3 - ustun yi'gindisi   = 31\n",
      " 4 - ustun yi'gindisi   = 27\n",
      "Elementlari yig'indisi eng katta bo'lgan ustun indeksi = 1 \n",
      "ustunning eng kichik elementi = 3\n"
     ]
    }
   ],
   "source": [
    "# matritsa elementlari yig'indisi eng katta bo'lgan ustunning eng kichik elementini chiqarish.\n",
    "import numpy as np\n",
    "a = np.random.randint(1,10, size=(5,5))\n",
    "print(\"Original matrix:\")\n",
    "print(a)\n",
    "l = len(a)\n",
    "MIN = 999999999\n",
    "MAX = 0\n",
    "\n",
    "# 1- elementlari yig'indisi eng katta bo'lgan ustunni topib olamiz\n",
    "for i in range(l):\n",
    "    sum = 0\n",
    "    for j in range(l):\n",
    "        sum += a[j,i]\n",
    "\n",
    "    if sum > MAX:\n",
    "        MAX = sum \n",
    "        indx = i\n",
    "    print(f\" {i} - ustun yi'gindisi   = {sum}\")\n",
    "\n",
    "# keyin ushbu ustundagi eng kichik elementni topib natijani ekranga chiqaramiz\n",
    "for row in range(l):\n",
    "    for col in range(l):\n",
    "        if row == indx:\n",
    "\n",
    "            if a[col,row] < MIN:\n",
    "                MIN = a[col,row]\n",
    "    \n",
    "print(f\"Elementlari yig'indisi eng katta bo'lgan ustun indeksi = {indx} \\nustunning eng kichik elementi = {MIN}\")"
   ]
  },
  {
   "cell_type": "markdown",
   "metadata": {},
   "source": [
    "## array29"
   ]
  },
  {
   "cell_type": "code",
   "execution_count": 106,
   "metadata": {},
   "outputs": [
    {
     "name": "stdout",
     "output_type": "stream",
     "text": [
      "Original matrix:\n",
      "[[3 3 8 3 2]\n",
      " [5 6 1 5 5]\n",
      " [3 4 4 7 5]\n",
      " [9 2 3 1 1]\n",
      " [8 9 2 9 7]]\n",
      "0 - satr o'rta arifmetigi  = 3.8\n",
      "0 - satr o'rta arifmetigidan kichik bo'lgan elementlar soni = 4\n",
      "1 - satr o'rta arifmetigi  = 4.4\n",
      "1 - satr o'rta arifmetigidan kichik bo'lgan elementlar soni = 1\n",
      "2 - satr o'rta arifmetigi  = 4.6\n",
      "2 - satr o'rta arifmetigidan kichik bo'lgan elementlar soni = 3\n",
      "3 - satr o'rta arifmetigi  = 3.2\n",
      "3 - satr o'rta arifmetigidan kichik bo'lgan elementlar soni = 4\n",
      "4 - satr o'rta arifmetigi  = 7.0\n",
      "4 - satr o'rta arifmetigidan kichik bo'lgan elementlar soni = 1\n"
     ]
    }
   ],
   "source": [
    "# Har bir satrda, shu satr o'rta arifmetigidan kichik bo'lgan elementlar sonini chiqarish\n",
    "import numpy as np\n",
    "a = np.random.randint(1,10, size=(5,5), dtype=int)\n",
    "print(\"Original matrix:\")\n",
    "print(a)\n",
    "l = len(a)\n",
    "MIN = 999999999\n",
    "MAX = 0\n",
    "\n",
    "# 1- har bir satr o'rta arifmetigi topib olamiz\n",
    "for i in range(l):\n",
    "    sum = 0\n",
    "    for j in range(l):\n",
    "        sum += a[i,j]\n",
    "\n",
    "    arif = sum / l\n",
    "    print(f\"{i} - satr o'rta arifmetigi  = {arif}\")\n",
    "    \n",
    "    # endi shu satr o'rta arifmetigidan kichik bo'lgan elementlar sonini topamiz va ekranga chiqaramiz\n",
    "    count = 0\n",
    "    for el in range(l):\n",
    "        if a[i,el] < arif:\n",
    "            count += 1\n",
    "        \n",
    "    print(f\"{i} - satr o'rta arifmetigidan kichik bo'lgan elementlar soni = {count}\")\n",
    "            \n",
    "\n",
    "    "
   ]
  },
  {
   "cell_type": "markdown",
   "metadata": {},
   "source": [
    "## array30"
   ]
  },
  {
   "cell_type": "code",
   "execution_count": 112,
   "metadata": {},
   "outputs": [
    {
     "name": "stdout",
     "output_type": "stream",
     "text": [
      "Original matrix:\n",
      "[[1 7 5 3 5]\n",
      " [7 9 2 9 2]\n",
      " [3 6 9 7 9]\n",
      " [6 5 2 7 7]\n",
      " [7 7 3 7 4]]\n",
      "0 - ustun o'rta arifmetigi  = 4.8\n",
      "0 - ustun o'rta arifmetigidan katta bo'lgan elementlar soni = 3\n",
      "1 - ustun o'rta arifmetigi  = 6.8\n",
      "1 - ustun o'rta arifmetigidan katta bo'lgan elementlar soni = 3\n",
      "2 - ustun o'rta arifmetigi  = 4.2\n",
      "2 - ustun o'rta arifmetigidan katta bo'lgan elementlar soni = 4\n",
      "3 - ustun o'rta arifmetigi  = 6.6\n",
      "3 - ustun o'rta arifmetigidan katta bo'lgan elementlar soni = 2\n",
      "4 - ustun o'rta arifmetigi  = 5.4\n",
      "4 - ustun o'rta arifmetigidan katta bo'lgan elementlar soni = 3\n"
     ]
    }
   ],
   "source": [
    "# Har bir ustunda, shu ustun o'rta arifmetigidan katta bo'lgan elementlar sonini chiqarish\n",
    "import numpy as np\n",
    "a = np.random.randint(1,10, size=(5,5), dtype=int)\n",
    "print(\"Original matrix:\")\n",
    "print(a)\n",
    "l = len(a)\n",
    "MIN = 999999999\n",
    "MAX = 0\n",
    "\n",
    "# 1- har bir ustun o'rta arifmetigi topib olamiz\n",
    "for i in range(l):\n",
    "    sum = 0\n",
    "    for j in range(l):\n",
    "        sum += a[j,i]\n",
    "\n",
    "    arif = sum / l\n",
    "    print(f\"{i} - ustun o'rta arifmetigi  = {arif}\")\n",
    "    \n",
    "    # endi shu ustun o'rta arifmetigidan katta bo'lgan elementlar sonini topamiz va ekranga chiqaramiz\n",
    "    count = 0\n",
    "    for el in range(l):\n",
    "        if a[i,el] > arif:\n",
    "            count += 1\n",
    "        \n",
    "    print(f\"{i} - ustun o'rta arifmetigidan katta bo'lgan elementlar soni = {count}\")\n",
    "            "
   ]
  },
  {
   "cell_type": "markdown",
   "metadata": {},
   "source": [
    "## array31"
   ]
  },
  {
   "cell_type": "code",
   "execution_count": 6,
   "metadata": {},
   "outputs": [
    {
     "name": "stdout",
     "output_type": "stream",
     "text": [
      "Original matrix:\n",
      "[[2 5 2 6 4]\n",
      " [1 1 5 5 5]\n",
      " [8 6 1 9 2]\n",
      " [1 4 3 2 3]\n",
      " [9 4 8 4 2]]\n",
      "Matritsa barcha elementlari yi'gindisi  = 102\n",
      "Matritsa elementlari soni  = 25\n",
      "Matritsa barcha elementlari o'rta arifmetigi  = 4.08\n",
      "0 - satr o'rta arifmetigi  = 3.8\n",
      "0 - ustun o'rta arifmetigi  = 4.2\n",
      "1 - satr o'rta arifmetigi  = 3.4\n",
      "1 - ustun o'rta arifmetigi  = 4.0\n",
      "2 - satr o'rta arifmetigi  = 5.2\n",
      "2 - ustun o'rta arifmetigi  = 3.8\n",
      "3 - satr o'rta arifmetigi  = 2.6\n",
      "3 - ustun o'rta arifmetigi  = 5.2\n",
      "4 - satr o'rta arifmetigi  = 5.4\n",
      "4 - ustun o'rta arifmetigi  = 3.2\n",
      "\n",
      "Barcha elementlar o'rta arifmetigiga eng yaqin satr raqami 4\n",
      "\n",
      "Barcha elementlar o'rta arifmetigiga eng yaqin ustun raqami 4\n"
     ]
    }
   ],
   "source": [
    "# Matritsa barcha elementlari o'rta arifmetigiga, o'rta arifmetigi eng yaqin bo'lgan satr va ustun nomerini chiqarish\n",
    "import numpy as np\n",
    "a = np.random.randint(1,10, size=(5,5), dtype=int)\n",
    "print(\"Original matrix:\")\n",
    "print(a)\n",
    "l = len(a)\n",
    "MIN = 999999999\n",
    "MAX = 0\n",
    "sum_all = 0\n",
    "# 1- Matritsaning barcha elementlari o'rta arifmetigini topib olamiz\n",
    "\n",
    "for i in range(l):\n",
    "    for j in range(l):\n",
    "        sum_all += a[i,j]\n",
    "\n",
    "total_avg = sum_all / (l * l)\n",
    "\n",
    "print(f\"Matritsa barcha elementlari yi'gindisi  = {sum_all}\")\n",
    "print(f\"Matritsa elementlari soni  = {l*l}\")\n",
    "print(f\"Matritsa barcha elementlari o'rta arifmetigi  = {total_avg}\")\n",
    "\n",
    "# satr va ustun elementlari o'rta arifmetigini topib olamiz va barcha elementlari o'rta arifmetigiga eng yaqinini topib ekranga chiqaramiz\n",
    "for row in range(1):\n",
    "    row_sum = 0\n",
    "    col_sum = 0\n",
    "    for col in range(1):\n",
    "        row_sum += a[row,col]\n",
    "        col_sum += a[col,row]\n",
    "    \n",
    "    rows_avg = row_sum / l\n",
    "    cols_avg = col_sum / l\n",
    "    \n",
    "    close_row = abs(rows_avg - total_avg)\n",
    "    close_col = abs(cols_avg - total_avg)\n",
    "\n",
    "\n",
    "for row in range(l):\n",
    "    row_sum = 0\n",
    "    col_sum = 0\n",
    "    for col in range(l):\n",
    "        row_sum += a[row,col]\n",
    "        col_sum += a[col,row]\n",
    "    \n",
    "    rows_avg = row_sum / l\n",
    "    cols_avg = col_sum / l\n",
    "    \n",
    "    print(f\"{row} - satr o'rta arifmetigi  = {rows_avg}\")\n",
    "    print(f\"{row} - ustun o'rta arifmetigi  = {cols_avg}\")\n",
    "\n",
    "    # barcha elementlari o'rta arifmetigiga eng yaqinini topish\n",
    "    close_r = abs(rows_avg - total_avg)\n",
    "    close_c = abs(cols_avg - total_avg)\n",
    "\n",
    "    if close_r < close_row:\n",
    "        row_indx = row\n",
    "    \n",
    "    if close_c < close_col:\n",
    "        col_indx = row\n",
    "\n",
    "    close_row = close_r\n",
    "    close_col = close_c\n",
    "    \n",
    "print(\"\\nBarcha elementlar o'rta arifmetigiga eng yaqin satr raqami\", row_indx)\n",
    "print(\"\\nBarcha elementlar o'rta arifmetigiga eng yaqin ustun raqami\", col_indx)   \n"
   ]
  },
  {
   "cell_type": "code",
   "execution_count": 7,
   "metadata": {},
   "outputs": [
    {
     "data": {
      "text/html": [
       "\n",
       "        <iframe\n",
       "            width=\"560\"\n",
       "            height=\"315\"\n",
       "            src=\"https://www.youtube.com/watch?v=XF8pCXZcdOI\"\n",
       "            frameborder=\"0\"\n",
       "            allowfullscreen\n",
       "            \n",
       "        ></iframe>\n",
       "        "
      ],
      "text/plain": [
       "<IPython.lib.display.IFrame at 0x2baa27520d0>"
      ]
     },
     "execution_count": 7,
     "metadata": {},
     "output_type": "execute_result"
    }
   ],
   "source": [
    "from IPython.display import IFrame\n",
    "IFrame(src=\"https://www.youtube.com/watch?v=XF8pCXZcdOI\", width=\"560\", height=\"315\")"
   ]
  },
  {
   "cell_type": "code",
   "execution_count": 8,
   "metadata": {},
   "outputs": [
    {
     "data": {
      "text/html": [
       "\n",
       "        <iframe\n",
       "            width=\"560\"\n",
       "            height=\"315\"\n",
       "            src=\"https://www.youtube.com/embed/fTaLQKNuOXU\"\n",
       "            frameborder=\"0\"\n",
       "            allowfullscreen\n",
       "            \n",
       "        ></iframe>\n",
       "        "
      ],
      "text/plain": [
       "<IPython.lib.display.IFrame at 0x2baa27529a0>"
      ]
     },
     "execution_count": 8,
     "metadata": {},
     "output_type": "execute_result"
    }
   ],
   "source": [
    "from IPython.display import IFrame \n",
    "IFrame(src=\"https://www.youtube.com/embed/fTaLQKNuOXU\", width=\"560\", height=\"315\")"
   ]
  },
  {
   "cell_type": "code",
   "execution_count": null,
   "metadata": {},
   "outputs": [],
   "source": [
    "\n"
   ]
  },
  {
   "cell_type": "code",
   "execution_count": null,
   "metadata": {},
   "outputs": [],
   "source": []
  },
  {
   "cell_type": "code",
   "execution_count": null,
   "metadata": {},
   "outputs": [],
   "source": []
  },
  {
   "cell_type": "code",
   "execution_count": null,
   "metadata": {},
   "outputs": [],
   "source": []
  },
  {
   "cell_type": "code",
   "execution_count": null,
   "metadata": {},
   "outputs": [],
   "source": []
  },
  {
   "cell_type": "code",
   "execution_count": null,
   "metadata": {},
   "outputs": [],
   "source": []
  },
  {
   "cell_type": "code",
   "execution_count": null,
   "metadata": {},
   "outputs": [],
   "source": []
  },
  {
   "cell_type": "code",
   "execution_count": null,
   "metadata": {},
   "outputs": [],
   "source": []
  },
  {
   "cell_type": "code",
   "execution_count": null,
   "metadata": {},
   "outputs": [],
   "source": []
  },
  {
   "cell_type": "code",
   "execution_count": null,
   "metadata": {},
   "outputs": [],
   "source": []
  },
  {
   "cell_type": "code",
   "execution_count": null,
   "metadata": {},
   "outputs": [],
   "source": []
  },
  {
   "cell_type": "code",
   "execution_count": null,
   "metadata": {},
   "outputs": [],
   "source": []
  },
  {
   "cell_type": "code",
   "execution_count": null,
   "metadata": {},
   "outputs": [],
   "source": []
  },
  {
   "cell_type": "code",
   "execution_count": null,
   "metadata": {},
   "outputs": [],
   "source": []
  },
  {
   "cell_type": "code",
   "execution_count": null,
   "metadata": {},
   "outputs": [],
   "source": []
  }
 ],
 "metadata": {
  "interpreter": {
   "hash": "242c948dfb4df01891f1a817da50e15eb33844cf7dbde3719987800cfc7bff6e"
  },
  "kernelspec": {
   "display_name": "Python 3.8.12 64-bit ('tf2-gpu': conda)",
   "language": "python",
   "name": "python3"
  },
  "language_info": {
   "codemirror_mode": {
    "name": "ipython",
    "version": 3
   },
   "file_extension": ".py",
   "mimetype": "text/x-python",
   "name": "python",
   "nbconvert_exporter": "python",
   "pygments_lexer": "ipython3",
   "version": "3.8.12"
  },
  "orig_nbformat": 4
 },
 "nbformat": 4,
 "nbformat_minor": 2
}
