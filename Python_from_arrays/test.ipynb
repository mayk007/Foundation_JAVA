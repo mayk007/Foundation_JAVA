{
 "cells": [
  {
   "cell_type": "code",
   "execution_count": 3,
   "metadata": {},
   "outputs": [
    {
     "name": "stdout",
     "output_type": "stream",
     "text": [
      "Org array: [2 3 6 5 2 3 4 9]\n",
      "Sorted array: [2 2 3 3 4 5 6 9]\n"
     ]
    }
   ],
   "source": [
    "import numpy as np\n",
    "org_arr = np.random.randint(0,10,8)\n",
    "print(f\"Org array: {org_arr}\")\n",
    "if org_arr[0] > org_arr[1]:\n",
    "    org_arr[0], org_arr[1] = org_arr[1], org_arr[0] \n",
    "\n",
    "for i in range(2, len(org_arr)):\n",
    "    for j in range(0, i):\n",
    "        if org_arr[i] < org_arr[j]:\n",
    "            min = j\n",
    "        else:\n",
    "            min = i\n",
    "        org_arr[i], org_arr[min] = org_arr[min], org_arr[i]\n",
    "        \n",
    "    #org_arr[i], org_arr[index] = org_arr[index], org_arr[i] \n",
    "\n",
    "print(f\"Sorted array: {org_arr}\")"
   ]
  },
  {
   "cell_type": "code",
   "execution_count": null,
   "metadata": {},
   "outputs": [],
   "source": []
  },
  {
   "cell_type": "code",
   "execution_count": null,
   "metadata": {},
   "outputs": [],
   "source": []
  },
  {
   "cell_type": "code",
   "execution_count": null,
   "metadata": {},
   "outputs": [],
   "source": []
  }
 ],
 "metadata": {
  "interpreter": {
   "hash": "f0177d502430401c4e4cadd4d59cc3ddebe0dcb8912ce91efb714c41c8918e58"
  },
  "kernelspec": {
   "display_name": "Python 3.8.11 64-bit ('tf2-gpu': conda)",
   "language": "python",
   "name": "python3"
  },
  "language_info": {
   "codemirror_mode": {
    "name": "ipython",
    "version": 3
   },
   "file_extension": ".py",
   "mimetype": "text/x-python",
   "name": "python",
   "nbconvert_exporter": "python",
   "pygments_lexer": "ipython3",
   "version": "3.8.11"
  },
  "orig_nbformat": 4
 },
 "nbformat": 4,
 "nbformat_minor": 2
}
